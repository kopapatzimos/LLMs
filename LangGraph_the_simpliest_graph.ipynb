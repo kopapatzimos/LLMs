{
  "nbformat": 4,
  "nbformat_minor": 0,
  "metadata": {
    "colab": {
      "provenance": [],
      "authorship_tag": "ABX9TyOqNGMcefJfw8s+kRjkvbbl",
      "include_colab_link": true
    },
    "kernelspec": {
      "name": "python3",
      "display_name": "Python 3"
    },
    "language_info": {
      "name": "python"
    }
  },
  "cells": [
    {
      "cell_type": "markdown",
      "metadata": {
        "id": "view-in-github",
        "colab_type": "text"
      },
      "source": [
        "<a href=\"https://colab.research.google.com/github/kopapatzimos/LLMs/blob/main/LangGraph_the_simpliest_graph.ipynb\" target=\"_parent\"><img src=\"https://colab.research.google.com/assets/colab-badge.svg\" alt=\"Open In Colab\"/></a>"
      ]
    },
    {
      "cell_type": "code",
      "execution_count": null,
      "metadata": {
        "id": "BZpsy_eyd2rZ"
      },
      "outputs": [],
      "source": [
        "!pip install langgraph"
      ]
    },
    {
      "cell_type": "code",
      "source": [
        "from typing import TypedDict\n",
        "\n",
        "class State(TypedDict):\n",
        "  graph_state: str\n",
        "\n"
      ],
      "metadata": {
        "id": "DOpQZ7oZd_vg"
      },
      "execution_count": null,
      "outputs": []
    },
    {
      "cell_type": "markdown",
      "source": [
        "## Nodes\n",
        "Nodes are functions. Each node operates on the state"
      ],
      "metadata": {
        "id": "Xfqn9JMeeehU"
      }
    },
    {
      "cell_type": "code",
      "source": [
        "def node_1(state):\n",
        "  print('---Node 1-----')\n",
        "  return {'graph_state': state['graph_state'] + ' I am'}\n",
        "\n",
        "def node_2(state):\n",
        "  print('---Node 2-----')\n",
        "  return {'graph_state': state['graph_state'] + ' happy :)'}\n",
        "\n",
        "def node_3(state):\n",
        "  print('---Node 3-----')\n",
        "  return {'graph_state': state['graph_state'] + ' sad :('}\n",
        "\n"
      ],
      "metadata": {
        "id": "QqLilAG7eJFW"
      },
      "execution_count": null,
      "outputs": []
    },
    {
      "cell_type": "markdown",
      "source": [
        "## Edges\n",
        "Edges connect the nodes."
      ],
      "metadata": {
        "id": "c66hzsF2en78"
      }
    },
    {
      "cell_type": "code",
      "source": [
        "import random\n",
        "from typing import Literal\n",
        "\n",
        "def decide_mood(state)-> Literal['node_2', 'node_3']:\n",
        "  user_input = state['graph_state']\n",
        "  if random.random() < 0.5:\n",
        "    return 'node_2'\n",
        "  else:\n",
        "    return 'node_3'"
      ],
      "metadata": {
        "id": "Z9zyui_1eZ0b"
      },
      "execution_count": null,
      "outputs": []
    },
    {
      "cell_type": "markdown",
      "source": [
        "## Graph Construction\n",
        "Lets build the graph from our components.\n",
        "1. Initialize a StateGraph with the State class we definded above.\n",
        "2. Add our nodes and edges\n",
        "3. Start node -> a special node that sends user input to the graph to indicate where to start our graph\n",
        "4. END node -> a special node that represents a terminal node\n",
        "5. Compile the graph to perfmorm few basic checks about the stucture of the graph.\n",
        "6. Visualize graph as mermaid display\n"
      ],
      "metadata": {
        "id": "WMAP8RzPfn1o"
      }
    },
    {
      "cell_type": "code",
      "source": [
        "from langgraph.graph import StateGraph, START, END\n",
        "\n",
        "# Build Graph\n",
        "builder = StateGraph(State)\n",
        "builder.add_node('node_1',node_1)\n",
        "builder.add_node('node_2',node_2)\n",
        "builder.add_node('node_3',node_3)\n",
        "\n",
        "# Logic\n",
        "builder.add_edge(START,'node_1')\n",
        "builder.add_conditional_edges('node_1', decide_mood)\n",
        "builder.add_edge('node_2', END)\n",
        "builder.add_edge('node_3', END)\n",
        "\n",
        "# Add\n",
        "graph = builder.compile()\n",
        "graph\n"
      ],
      "metadata": {
        "id": "PMTa8MaQfhxI"
      },
      "execution_count": null,
      "outputs": []
    },
    {
      "cell_type": "markdown",
      "source": [
        "## Invoke the Graph"
      ],
      "metadata": {
        "id": "aFV4GNx4ix1n"
      }
    },
    {
      "cell_type": "code",
      "source": [
        "graph.invoke({'graph_state':'Hi, this is Kostas.'})"
      ],
      "metadata": {
        "id": "v3iz0n88gw0p"
      },
      "execution_count": null,
      "outputs": []
    },
    {
      "cell_type": "code",
      "source": [],
      "metadata": {
        "id": "l3Xq6W1yiODp"
      },
      "execution_count": null,
      "outputs": []
    }
  ]
}