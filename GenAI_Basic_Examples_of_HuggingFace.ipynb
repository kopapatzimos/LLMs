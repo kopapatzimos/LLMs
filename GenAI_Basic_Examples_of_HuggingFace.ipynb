{
  "nbformat": 4,
  "nbformat_minor": 0,
  "metadata": {
    "colab": {
      "provenance": [],
      "gpuType": "T4",
      "authorship_tag": "ABX9TyMQYeZOM5DIX8idtfI7+K/e",
      "include_colab_link": true
    },
    "kernelspec": {
      "name": "python3",
      "display_name": "Python 3"
    },
    "language_info": {
      "name": "python"
    },
    "accelerator": "GPU"
  },
  "cells": [
    {
      "cell_type": "markdown",
      "metadata": {
        "id": "view-in-github",
        "colab_type": "text"
      },
      "source": [
        "<a href=\"https://colab.research.google.com/github/kopapatzimos/LLMs/blob/main/GenAI_Basic_Examples_of_HuggingFace.ipynb\" target=\"_parent\"><img src=\"https://colab.research.google.com/assets/colab-badge.svg\" alt=\"Open In Colab\"/></a>"
      ]
    },
    {
      "cell_type": "code",
      "execution_count": null,
      "metadata": {
        "id": "IzeqmnE0qLqS"
      },
      "outputs": [],
      "source": [
        "!pip install -q transformers datasets diffusers"
      ]
    },
    {
      "cell_type": "code",
      "source": [
        "import torch\n",
        "from transformers import pipeline\n",
        "from diffusers import DiffusionPipeline\n",
        "from datasets import load_dataset\n",
        "import soundfile as sf\n",
        "from IPython.display import Audio"
      ],
      "metadata": {
        "id": "yVIUSW8DLTrK"
      },
      "execution_count": null,
      "outputs": []
    },
    {
      "cell_type": "code",
      "source": [
        "# sentiment analysis\n",
        "classifier = pipeline('sentiment-analysis', device='cuda')\n",
        "result = classifier('I hate you')\n",
        "print(result)"
      ],
      "metadata": {
        "id": "x7xkmyXKLhQ3"
      },
      "execution_count": null,
      "outputs": []
    },
    {
      "cell_type": "code",
      "source": [
        "#qa\n",
        "qa = pipeline('question-answering', device='cuda')\n",
        "result = qa(question='who is the president of greece?',context='Tsipras is the president of greece')\n",
        "print(result)"
      ],
      "metadata": {
        "id": "51A2bjSsMHj3"
      },
      "execution_count": null,
      "outputs": []
    },
    {
      "cell_type": "code",
      "source": [
        "# translation\n",
        "translator = pipeline('translation_en_to_fr', device='cuda')\n",
        "result = translator('I love Lena')\n",
        "print(result)"
      ],
      "metadata": {
        "id": "3shTfL1jNc6x"
      },
      "execution_count": null,
      "outputs": []
    },
    {
      "cell_type": "code",
      "source": [
        "# Classification\n",
        "classifier = pipeline('zero-shot-classification', device='cuda')\n",
        "result = classifier('Panathinaikos is a great team', candidate_labels=['sports','politics','science'])\n",
        "print(result)"
      ],
      "metadata": {
        "id": "DTjb8jLvN0CP"
      },
      "execution_count": null,
      "outputs": []
    },
    {
      "cell_type": "code",
      "source": [
        "# text generation\n",
        "generator = pipeline('text-generation', device='cuda')\n",
        "result = generator('The weather is')\n",
        "print(result)"
      ],
      "metadata": {
        "id": "ukAPfXP2Osdc"
      },
      "execution_count": null,
      "outputs": []
    },
    {
      "cell_type": "code",
      "source": [
        "# Image Generation\n",
        "image_gen = DiffusionPipeline.from_pretrained(\n",
        "    'stabilityai/stable-diffusion-2-1',\n",
        "    torch_dtype=torch.float16,\n",
        "    USE_SAFETENSORS=True,\n",
        "    variant='fp16'\n",
        ").to('cuda')\n",
        "text = 'Create a Data Scientist image, dali style'\n",
        "image = image_gen(prompt=text).images[0]\n",
        "image"
      ],
      "metadata": {
        "id": "yh0Mi9aRPAaa"
      },
      "execution_count": null,
      "outputs": []
    },
    {
      "cell_type": "code",
      "source": [],
      "metadata": {
        "id": "F6mvfqSGT870"
      },
      "execution_count": null,
      "outputs": []
    }
  ]
}